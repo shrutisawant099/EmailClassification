{
 "cells": [
  {
   "cell_type": "code",
   "execution_count": 1,
   "metadata": {},
   "outputs": [],
   "source": [
    "import pandas as pd\n",
    "import os            \n",
    "import numpy as np\n",
    "import re                                                           "
   ]
  },
  {
   "cell_type": "code",
   "execution_count": 7,
   "metadata": {},
   "outputs": [],
   "source": [
    "#Names of folders correpsonding to each category \n",
    "a = ['1','2','3','4','5','6']\n",
    "\n",
    "\n",
    "for k in range (len(a)):\n",
    "    \n",
    "    #For each folder, read content from text file and generate label\n",
    "    \n",
    "    labels = []\n",
    "    all_data=[]\n",
    "    \n",
    "    #path to folder\n",
    "    path = './enron_with_categories/'+a[k]+'/'\n",
    "    \n",
    "    #get filenames for each folder \n",
    "    fileNames=[]\n",
    "    for i in os.scandir(path):\n",
    "        if i.path[-3:] == 'txt':\n",
    "            fileNames.append(i.path)\n",
    "    \n",
    "    #For each text file in the folder :\n",
    "    for i in range(len(fileNames)):\n",
    "        temp=re.sub('./enron_with_categories/','',fileNames[i])\n",
    "        \n",
    "        #Open and read text file\n",
    "        file=open(fileNames[i])\n",
    "        string =  file.read()\n",
    "\n",
    "        #Extract lines\n",
    "        lines = string.split(\"\\n\")\n",
    "\n",
    "        #Find index for line starting with \"X-FileName:\"\n",
    "        index = 0\n",
    "        for j in range(len(lines)):\n",
    "            if(len(lines[j].split('X-FileName:')) > 1):\n",
    "                index = j\n",
    "                break;\n",
    "        \n",
    "        #Remove contents of text file till 'X-FileName:'\n",
    "        content_lines = lines[index+1:]\n",
    "\n",
    "        #convert list to string\n",
    "        text = \"\".join(content_lines)\n",
    "\n",
    "        #Remove special\n",
    "        sym=['/','-','@','?',':',',','.','&','\"','\\'','\\t','<','>','(',')','%','#','!','^','*','=','_','https']\n",
    "\n",
    "        #Initialize new string\n",
    "        s2=\"\"\n",
    "\n",
    "        for l in range (0,len(text)):\n",
    "            #Skip in case special character appears\n",
    "            if text[l] in sym:\n",
    "                continue\n",
    "            s2+=text[l]\n",
    "            \n",
    "       \n",
    "        #Contet of text file popoulated in list\n",
    "        all_data.append(s2)\n",
    "    \n",
    "    #Generate a class label for all text files in the folder\n",
    "    labels = ((int(a[k])-1)*np.ones(len(fileNames),dtype=int))\n",
    "\n",
    "    t = pd.DataFrame([all_data,labels])\n",
    "    t1 = t.T\n",
    "    t1.columns =['Content','Labels']\n",
    "    t1.to_csv('email_content_class'+a[k]+'.csv', index=False)\n",
    "            "
   ]
  },
  {
   "cell_type": "code",
   "execution_count": 8,
   "metadata": {},
   "outputs": [],
   "source": [
    "data6 = pd.read_csv('email_content_class6.csv')"
   ]
  },
  {
   "cell_type": "code",
   "execution_count": 9,
   "metadata": {},
   "outputs": [
    {
     "data": {
      "text/html": [
       "<div>\n",
       "<style scoped>\n",
       "    .dataframe tbody tr th:only-of-type {\n",
       "        vertical-align: middle;\n",
       "    }\n",
       "\n",
       "    .dataframe tbody tr th {\n",
       "        vertical-align: top;\n",
       "    }\n",
       "\n",
       "    .dataframe thead th {\n",
       "        text-align: right;\n",
       "    }\n",
       "</style>\n",
       "<table border=\"1\" class=\"dataframe\">\n",
       "  <thead>\n",
       "    <tr style=\"text-align: right;\">\n",
       "      <th></th>\n",
       "      <th>Content</th>\n",
       "      <th>Labels</th>\n",
       "    </tr>\n",
       "  </thead>\n",
       "  <tbody>\n",
       "    <tr>\n",
       "      <th>1</th>\n",
       "      <td>I have taken a stab at putting a draft respons...</td>\n",
       "      <td>5</td>\n",
       "    </tr>\n",
       "    <tr>\n",
       "      <th>2</th>\n",
       "      <td>Looks good  I think you implicitly say this bu...</td>\n",
       "      <td>5</td>\n",
       "    </tr>\n",
       "    <tr>\n",
       "      <th>3</th>\n",
       "      <td>I think the presentation looks good  In the me...</td>\n",
       "      <td>5</td>\n",
       "    </tr>\n",
       "    <tr>\n",
       "      <th>4</th>\n",
       "      <td>To Ad Hoc CommitteeDear ColleagueSeveral of yo...</td>\n",
       "      <td>5</td>\n",
       "    </tr>\n",
       "    <tr>\n",
       "      <th>5</th>\n",
       "      <td>Please send any comments directly to Peggy For...</td>\n",
       "      <td>5</td>\n",
       "    </tr>\n",
       "  </tbody>\n",
       "</table>\n",
       "</div>"
      ],
      "text/plain": [
       "                                             Content  Labels\n",
       "1  I have taken a stab at putting a draft respons...       5\n",
       "2  Looks good  I think you implicitly say this bu...       5\n",
       "3  I think the presentation looks good  In the me...       5\n",
       "4  To Ad Hoc CommitteeDear ColleagueSeveral of yo...       5\n",
       "5  Please send any comments directly to Peggy For...       5"
      ]
     },
     "execution_count": 9,
     "metadata": {},
     "output_type": "execute_result"
    }
   ],
   "source": [
    "data6[1:6]"
   ]
  },
  {
   "cell_type": "code",
   "execution_count": 10,
   "metadata": {},
   "outputs": [
    {
     "data": {
      "text/plain": [
       "\"Message-ID: <14932704.1075842962225.JavaMail.evans@thyme>\\nDate: Wed, 6 Sep 2000 06:05:00 -0700 (PDT)\\nFrom: mona.petrochko@enron.com\\nTo: west.ga@enron.com, james.steffes@enron.com, richard.shapiro@enron.com, \\n\\tdouglass@arterhadden.com, seabron.adamson@frontier-economics.com\\nSubject: Draft Response to CPUC OII\\nMime-Version: 1.0\\nContent-Type: text/plain; charset=us-ascii\\nContent-Transfer-Encoding: 7bit\\nX-From: Mona L Petrochko\\nX-To: West GA, Mary Hain@Enron, Tim Belden@ECT, Sarah Novasel@Enron, Joe Hartsoe@Enron, James D Steffes, Richard Shapiro, douglass@arterhadden.com, seabron.adamson@frontier-economics.com\\nX-cc: \\nX-bcc: \\nX-Folder: \\\\Jeff_Dasovich_Dec2000\\\\Notes Folders\\\\All documents\\nX-Origin: DASOVICH-J\\nX-FileName: jdasovic.nsf\\n\\nI have taken a stab at putting a draft response together, indicating areas \\nwhere we need more flesh.  I will forward Tim/Mary's presentation to FERC, \\nEPSA's California Fact Sheet and the transcript from the hearing held on 8/23 \\nand 8/24.  Witness Wolak, Market Surveillance Committee of ISO, had some good \\npoints about rational behavior in markets with scarcity of supply.  His \\ncomments were on 8/23.  \\n\\nPlease feel free to comment.  Dan Douglass, Arter&Hadden (818-596-2201) will \\nbe filing these comments on Enron's behalf, which are due on Friday.   I \\nwould suggest that Dan provide some of the legal view on whether the CPUC has \\nadequate jurisdiction over retail rates, not wholesale rates.  We should \\nshoot for final comments by 10:00 a.m. tomorrow, if possible.  This will \\nallow an opportunity to discuss any last minute changes, if necessary before \\nfiling.\\n\\nSeabron Adamson, Frontier Economics (617-354-0060), will be providing \\nadditional drafting.  Be sure to send any comments to these parties along \\nwith the internal list.  Thanks.\\n\""
      ]
     },
     "execution_count": 10,
     "metadata": {},
     "output_type": "execute_result"
    }
   ],
   "source": [
    "#Examaple of actual text file\n",
    "file=open(fileNames[1])\n",
    "string =  file.read()\n",
    "string"
   ]
  },
  {
   "cell_type": "code",
   "execution_count": 11,
   "metadata": {},
   "outputs": [
    {
     "data": {
      "text/plain": [
       "'I have taken a stab at putting a draft response together indicating areas where we need more flesh  I will forward TimMarys presentation to FERC EPSAs California Fact Sheet and the transcript from the hearing held on 823 and 824  Witness Wolak Market Surveillance Committee of ISO had some good points about rational behavior in markets with scarcity of supply  His comments were on 823  Please feel free to comment  Dan Douglass ArterHadden 8185962201 will be filing these comments on Enrons behalf which are due on Friday   I would suggest that Dan provide some of the legal view on whether the CPUC has adequate jurisdiction over retail rates not wholesale rates  We should shoot for final comments by 1000 am tomorrow if possible  This will allow an opportunity to discuss any last minute changes if necessary before filingSeabron Adamson Frontier Economics 6173540060 will be providing additional drafting  Be sure to send any comments to these parties along with the internal list  Thanks'"
      ]
     },
     "execution_count": 11,
     "metadata": {},
     "output_type": "execute_result"
    }
   ],
   "source": [
    "#Examaple of contennt extracted from the actual text file\n",
    "all_data[1]"
   ]
  },
  {
   "cell_type": "code",
   "execution_count": null,
   "metadata": {},
   "outputs": [],
   "source": []
  }
 ],
 "metadata": {
  "colab": {
   "provenance": []
  },
  "kernelspec": {
   "display_name": "Python 3",
   "language": "python",
   "name": "python3"
  },
  "language_info": {
   "codemirror_mode": {
    "name": "ipython",
    "version": 3
   },
   "file_extension": ".py",
   "mimetype": "text/x-python",
   "name": "python",
   "nbconvert_exporter": "python",
   "pygments_lexer": "ipython3",
   "version": "3.8.3"
  }
 },
 "nbformat": 4,
 "nbformat_minor": 1
}
