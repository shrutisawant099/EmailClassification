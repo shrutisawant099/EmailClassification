{
 "cells": [
  {
   "cell_type": "code",
   "execution_count": 2,
   "id": "1263877f",
   "metadata": {},
   "outputs": [],
   "source": [
    "import pandas as pd\n",
    "import os   \n",
    "import matplotlib.pyplot as plt            \n",
    "import random    \n",
    "import numpy as np\n",
    "import re                                \n",
    "import string\n",
    "import nltk                                      \n",
    "from nltk.stem import PorterStemmer        \n",
    "from sklearn.naive_bayes import GaussianNB\n",
    "from sklearn.tree import DecisionTreeClassifier\n",
    "from sklearn.svm import LinearSVC\n",
    "from sklearn.neural_network import MLPClassifier\n",
    "from sklearn.linear_model import LogisticRegression\n",
    "from sklearn.neighbors import KNeighborsClassifier\n",
    "from sklearn.svm import SVC\n",
    "from sklearn.model_selection import train_test_split\n",
    "from sklearn.feature_extraction.text import CountVectorizer,TfidfVectorizer\n",
    "from sklearn.ensemble import RandomForestClassifier\n",
    "from sklearn.metrics import accuracy_score,confusion_matrix,precision_score,f1_score\n",
    "from imblearn.over_sampling import SMOTE"
   ]
  },
  {
   "cell_type": "code",
   "execution_count": 3,
   "id": "a55ec332",
   "metadata": {},
   "outputs": [],
   "source": [
    "#Read extracted conted from email text files for six classes\n",
    "data1 = pd.read_csv('email_content_class1.csv')#, index_col=False)  \n",
    "data2 = pd.read_csv('email_content_class2.csv')\n",
    "data3 = pd.read_csv('email_content_class3.csv')\n",
    "data4 = pd.read_csv('email_content_class4.csv')\n",
    "data5 = pd.read_csv('email_content_class5.csv')\n",
    "data6 = pd.read_csv('email_content_class6.csv')"
   ]
  },
  {
   "cell_type": "code",
   "execution_count": 4,
   "id": "5bc5aa71",
   "metadata": {},
   "outputs": [
    {
     "data": {
      "text/html": [
       "<div>\n",
       "<style scoped>\n",
       "    .dataframe tbody tr th:only-of-type {\n",
       "        vertical-align: middle;\n",
       "    }\n",
       "\n",
       "    .dataframe tbody tr th {\n",
       "        vertical-align: top;\n",
       "    }\n",
       "\n",
       "    .dataframe thead th {\n",
       "        text-align: right;\n",
       "    }\n",
       "</style>\n",
       "<table border=\"1\" class=\"dataframe\">\n",
       "  <thead>\n",
       "    <tr style=\"text-align: right;\">\n",
       "      <th></th>\n",
       "      <th>Content</th>\n",
       "      <th>Labels</th>\n",
       "    </tr>\n",
       "  </thead>\n",
       "  <tbody>\n",
       "    <tr>\n",
       "      <th>0</th>\n",
       "      <td>Forwarded by Steven J KeanHOUEES on 101899 08...</td>\n",
       "      <td>0</td>\n",
       "    </tr>\n",
       "    <tr>\n",
       "      <th>1</th>\n",
       "      <td>In anticipation of potential litigation involv...</td>\n",
       "      <td>0</td>\n",
       "    </tr>\n",
       "    <tr>\n",
       "      <th>2</th>\n",
       "      <td>Julia and Stevehere are some questions Ive sen...</td>\n",
       "      <td>0</td>\n",
       "    </tr>\n",
       "    <tr>\n",
       "      <th>3</th>\n",
       "      <td>Julia and Stevehere are some questions Ive sen...</td>\n",
       "      <td>0</td>\n",
       "    </tr>\n",
       "    <tr>\n",
       "      <th>4</th>\n",
       "      <td>In anticipation of potential litigation involv...</td>\n",
       "      <td>0</td>\n",
       "    </tr>\n",
       "  </tbody>\n",
       "</table>\n",
       "</div>"
      ],
      "text/plain": [
       "                                             Content  Labels\n",
       "0   Forwarded by Steven J KeanHOUEES on 101899 08...       0\n",
       "1  In anticipation of potential litigation involv...       0\n",
       "2  Julia and Stevehere are some questions Ive sen...       0\n",
       "3  Julia and Stevehere are some questions Ive sen...       0\n",
       "4  In anticipation of potential litigation involv...       0"
      ]
     },
     "execution_count": 4,
     "metadata": {},
     "output_type": "execute_result"
    }
   ],
   "source": [
    "df = pd.concat([data1,data2,data3,data4,data5,data6],ignore_index=True)\n",
    "df.head(5)"
   ]
  },
  {
   "cell_type": "code",
   "execution_count": 5,
   "id": "5cff0081",
   "metadata": {},
   "outputs": [
    {
     "data": {
      "image/png": "[encoded data removed]",
      "text/plain": [
       "<Figure size 640x480 with 1 Axes>"
      ]
     },
     "metadata": {},
     "output_type": "display_data"
    }
   ],
   "source": [
    "#Check imbalance in dataset\n",
    "plt.pie(df['Labels'].value_counts(), labels=['Class1','Class2','Class3','Class4','Class5','Class6'],autopct=\"%0.2f\")\n",
    "plt.show()"
   ]
  },
  {
   "cell_type": "code",
   "execution_count": 6,
   "id": "dfa4fb67",
   "metadata": {},
   "outputs": [],
   "source": [
    "# df['num_words'] = df['Content'].apply(lambda x:len(nltk.word_tokenize(x)))\n",
    "# plt.hist(df['num_words'], bins=5)\n",
    "# plt.ylabel('Number of samples')\n",
    "# plt.xlabel('Number of words')\n",
    "# plt.show()"
   ]
  },
  {
   "cell_type": "code",
   "execution_count": 7,
   "id": "10d3aee7",
   "metadata": {},
   "outputs": [],
   "source": [
    "#Data preprocessing\n",
    "\n",
    "def transform_text(text):\n",
    "    #lowercase\n",
    "    text = text.lower()\n",
    "    \n",
    "    #tokenize words\n",
    "    text = nltk.word_tokenize(text)\n",
    "        \n",
    "    y = []\n",
    "    \n",
    "    #if either alphabets or numbers\n",
    "    for i in text:\n",
    "        if i.isalnum():\n",
    "            y.append(i)\n",
    "    \n",
    "    ps = PorterStemmer()\n",
    "    text = y[:]\n",
    "    y.clear()\n",
    "    \n",
    "    #stem the words  \n",
    "    for i in text:\n",
    "        y.append(ps.stem(i))\n",
    "    \n",
    "    #convert to string\n",
    "    y = \" \".join(y)\n",
    "    \n",
    "    #remove digits\n",
    "    y = re.sub(r'\\d+', '', y)\n",
    "    \n",
    "    return y"
   ]
  },
  {
   "cell_type": "code",
   "execution_count": 8,
   "id": "2a8cb54e",
   "metadata": {},
   "outputs": [
    {
     "data": {
      "text/plain": [
       "'In anticipation of potential litigation involving TWs operational activities please prepare an analysis for me of the reasons for TWs sale of excess natural gas at the California border  I am aware of several of these sales and have been  informed that excess pressure at the border is the basic reason for them  Id like a more specific explanation that includes the following information1  What are the specific pressures and volume considerations that could make it operationally necessary to sell gas at the California border  2  What is the process that is followed to make such a determination3  Which individuals or groups are involved in determining whether an operational sale is necessary4  In what way have system operations changed since last year and how do those changes contribute to the increased frequency of such sales compared to previous years5 What alternatives to operational sales are considered before the decision to make a sale is reached Thanks for your attention to this request  Please give me a call to discuss and please designate your response as Privileged and Confidential Attorney Client Privileged '"
      ]
     },
     "execution_count": 8,
     "metadata": {},
     "output_type": "execute_result"
    }
   ],
   "source": [
    "temp = df['Content']\n",
    "temp[1]"
   ]
  },
  {
   "cell_type": "code",
   "execution_count": 9,
   "id": "037aeb49",
   "metadata": {},
   "outputs": [
    {
     "data": {
      "text/plain": [
       "'in anticip of potenti litig involv tw oper activ pleas prepar an analysi for me of the reason for tw sale of excess natur ga at the california border i am awar of sever of these sale and have been inform that excess pressur at the border is the basic reason for them id like a more specif explan that includ the follow information what are the specif pressur and volum consider that could make it oper necessari to sell ga at the california border  what is the process that is follow to make such a determination which individu or group are involv in determin whether an oper sale is necessary in what way have system oper chang sinc last year and how do those chang contribut to the increas frequenc of such sale compar to previou years what altern to oper sale are consid befor the decis to make a sale is reach thank for your attent to thi request pleas give me a call to discuss and pleas design your respons as privileg and confidenti attorney client privileg'"
      ]
     },
     "execution_count": 9,
     "metadata": {},
     "output_type": "execute_result"
    }
   ],
   "source": [
    "transform_text(temp[1])"
   ]
  },
  {
   "cell_type": "code",
   "execution_count": 10,
   "id": "c709cb7a",
   "metadata": {},
   "outputs": [
    {
     "data": {
      "text/html": [
       "<div>\n",
       "<style scoped>\n",
       "    .dataframe tbody tr th:only-of-type {\n",
       "        vertical-align: middle;\n",
       "    }\n",
       "\n",
       "    .dataframe tbody tr th {\n",
       "        vertical-align: top;\n",
       "    }\n",
       "\n",
       "    .dataframe thead th {\n",
       "        text-align: right;\n",
       "    }\n",
       "</style>\n",
       "<table border=\"1\" class=\"dataframe\">\n",
       "  <thead>\n",
       "    <tr style=\"text-align: right;\">\n",
       "      <th></th>\n",
       "      <th>Content</th>\n",
       "      <th>Labels</th>\n",
       "      <th>transformed_text</th>\n",
       "    </tr>\n",
       "  </thead>\n",
       "  <tbody>\n",
       "    <tr>\n",
       "      <th>0</th>\n",
       "      <td>Forwarded by Steven J KeanHOUEES on 101899 08...</td>\n",
       "      <td>0</td>\n",
       "      <td>forward by steven j keanhoue on   am karen den...</td>\n",
       "    </tr>\n",
       "    <tr>\n",
       "      <th>1</th>\n",
       "      <td>In anticipation of potential litigation involv...</td>\n",
       "      <td>0</td>\n",
       "      <td>in anticip of potenti litig involv tw oper act...</td>\n",
       "    </tr>\n",
       "    <tr>\n",
       "      <th>2</th>\n",
       "      <td>Julia and Stevehere are some questions Ive sen...</td>\n",
       "      <td>0</td>\n",
       "      <td>julia and steveher are some question ive sent ...</td>\n",
       "    </tr>\n",
       "    <tr>\n",
       "      <th>3</th>\n",
       "      <td>Julia and Stevehere are some questions Ive sen...</td>\n",
       "      <td>0</td>\n",
       "      <td>julia and steveher are some question ive sent ...</td>\n",
       "    </tr>\n",
       "    <tr>\n",
       "      <th>4</th>\n",
       "      <td>In anticipation of potential litigation involv...</td>\n",
       "      <td>0</td>\n",
       "      <td>in anticip of potenti litig involv tw oper act...</td>\n",
       "    </tr>\n",
       "  </tbody>\n",
       "</table>\n",
       "</div>"
      ],
      "text/plain": [
       "                                             Content  Labels  \\\n",
       "0   Forwarded by Steven J KeanHOUEES on 101899 08...       0   \n",
       "1  In anticipation of potential litigation involv...       0   \n",
       "2  Julia and Stevehere are some questions Ive sen...       0   \n",
       "3  Julia and Stevehere are some questions Ive sen...       0   \n",
       "4  In anticipation of potential litigation involv...       0   \n",
       "\n",
       "                                    transformed_text  \n",
       "0  forward by steven j keanhoue on   am karen den...  \n",
       "1  in anticip of potenti litig involv tw oper act...  \n",
       "2  julia and steveher are some question ive sent ...  \n",
       "3  julia and steveher are some question ive sent ...  \n",
       "4  in anticip of potenti litig involv tw oper act...  "
      ]
     },
     "execution_count": 10,
     "metadata": {},
     "output_type": "execute_result"
    }
   ],
   "source": [
    "#Preprocessing all the contet:\n",
    "df['transformed_text'] = df['Content'].apply(transform_text)\n",
    "df.head(5)"
   ]
  },
  {
   "cell_type": "code",
   "execution_count": 11,
   "id": "92cfdc0a",
   "metadata": {},
   "outputs": [],
   "source": [
    "#Two vectorizers \n",
    "cv = CountVectorizer(max_features=3000)\n",
    "tfidf = TfidfVectorizer(max_features=3000)"
   ]
  },
  {
   "cell_type": "code",
   "execution_count": 12,
   "id": "b56feec9",
   "metadata": {},
   "outputs": [],
   "source": [
    "#Computing vectors using each vectorizer\n",
    "Xc = cv.fit_transform(df['transformed_text']).toarray()\n",
    "Xt = tfidf.fit_transform(df['transformed_text']).toarray()"
   ]
  },
  {
   "cell_type": "code",
   "execution_count": 14,
   "id": "de500ef5",
   "metadata": {},
   "outputs": [],
   "source": [
    "models = [LogisticRegression(solver='liblinear', penalty='l1'), GaussianNB(), KNeighborsClassifier(), DecisionTreeClassifier(), \n",
    "          RandomForestClassifier(n_estimators=50, random_state=2), LinearSVC(), MLPClassifier(hidden_layer_sizes=(50,))]\n",
    "\n",
    "names = ['Logistic Regressor','Gaussian naive Bayes','KNN','Decision tree','Random forest','SVM-Linear','ANN']"
   ]
  },
  {
   "cell_type": "code",
   "execution_count": 15,
   "id": "d2dcb9e3",
   "metadata": {},
   "outputs": [
    {
     "name": "stdout",
     "output_type": "stream",
     "text": [
      "Logistic Regressor\n",
      "accuracy:  0.626491595123007\n",
      "f1_score:  0.4208301224199042\n",
      "\n",
      "\n",
      "Gaussian naive Bayes\n",
      "accuracy:  0.47203304234903687\n",
      "f1_score:  0.2515408390686304\n",
      "\n",
      "\n",
      "KNN\n",
      "accuracy:  0.5177945314190895\n",
      "f1_score:  0.25648928152902895\n",
      "\n",
      "\n",
      "Decision tree\n",
      "accuracy:  0.5056850155111464\n",
      "f1_score:  0.3138121583090297\n",
      "\n",
      "\n",
      "Random forest\n",
      "accuracy:  0.6114674265925981\n",
      "f1_score:  0.3184469413809008\n",
      "\n",
      "\n",
      "SVM-Linear\n",
      "accuracy:  0.5777757737536974\n",
      "f1_score:  0.40451691330063866\n",
      "\n",
      "\n",
      "ANN\n",
      "accuracy:  0.6469374504004041\n",
      "f1_score:  0.4342783173206966\n",
      "\n",
      "\n"
     ]
    }
   ],
   "source": [
    "from sklearn.model_selection import cross_validate\n",
    "\n",
    "for model, name in zip(models, names):\n",
    "    print(name)\n",
    "    \n",
    "    scoring = {\n",
    "        'acc': 'accuracy',\n",
    "        'f1_mac': 'f1_macro',\n",
    "    }\n",
    "    scores = cross_validate(model, Xc, df['Labels'], cv=10, n_jobs=4, scoring=scoring)\n",
    "    # training_time = (time.time() - start)\n",
    "    print(\"accuracy: \", scores['test_acc'].mean())\n",
    "    print(\"f1_score: \", scores['test_f1_mac'].mean())\n",
    "    print(\"\\n\")\n",
    "    "
   ]
  },
  {
   "cell_type": "code",
   "execution_count": 21,
   "id": "13090e42",
   "metadata": {},
   "outputs": [
    {
     "name": "stdout",
     "output_type": "stream",
     "text": [
      "Logistic Regressor\n",
      "accuracy:  0.6601940696919415\n",
      "f1_score:  0.3549501988212769\n",
      "\n",
      "\n",
      "Gaussian naive Bayes\n",
      "accuracy:  0.5129391818772093\n",
      "f1_score:  0.25684669476304894\n",
      "\n",
      "\n",
      "KNN\n",
      "accuracy:  0.27233965803333093\n",
      "f1_score:  0.16013577086441086\n",
      "\n",
      "\n",
      "Decision tree\n",
      "accuracy:  0.49425366135199483\n",
      "f1_score:  0.2926511155650747\n",
      "\n",
      "\n",
      "Random forest\n",
      "accuracy:  0.6229132097251281\n",
      "f1_score:  0.3277793664703553\n",
      "\n",
      "\n",
      "SVM-Linear\n",
      "accuracy:  0.6614385686458408\n",
      "f1_score:  0.43721226649832257\n",
      "\n",
      "\n",
      "ANN\n",
      "accuracy:  0.6235733352571964\n",
      "f1_score:  0.42916722614404124\n",
      "\n",
      "\n"
     ]
    }
   ],
   "source": [
    "from sklearn.model_selection import cross_validate\n",
    "\n",
    "for model, name in zip(models, names):\n",
    "    print(name)\n",
    "    \n",
    "    scoring = {\n",
    "        'acc': 'accuracy',\n",
    "        'f1_mac': 'f1_macro',\n",
    "    }\n",
    "    scores = cross_validate(model, Xt, df['Labels'], cv=10, n_jobs=4, scoring=scoring)\n",
    "    # training_time = (time.time() - start)\n",
    "    print(\"accuracy: \", scores['test_acc'].mean())\n",
    "    print(\"f1_score: \", scores['test_f1_mac'].mean())\n",
    "    print(\"\\n\")\n",
    "    "
   ]
  },
  {
   "cell_type": "code",
   "execution_count": 16,
   "id": "1770c98b",
   "metadata": {},
   "outputs": [],
   "source": [
    "oversample = SMOTE()\n",
    "X, y = oversample.fit_resample(Xt, df['Labels'])"
   ]
  },
  {
   "cell_type": "code",
   "execution_count": 17,
   "id": "d13e2779",
   "metadata": {},
   "outputs": [
    {
     "data": {
      "image/png": "[encoded data removed]",
      "text/plain": [
       "<Figure size 640x480 with 1 Axes>"
      ]
     },
     "metadata": {},
     "output_type": "display_data"
    }
   ],
   "source": [
    "plt.pie(y.value_counts(), labels=['Class1','Class2','Class3','Class4','Class5','Class6'],autopct=\"%0.2f\")\n",
    "plt.show()"
   ]
  },
  {
   "cell_type": "code",
   "execution_count": 18,
   "id": "e1cbeaf0",
   "metadata": {},
   "outputs": [
    {
     "name": "stdout",
     "output_type": "stream",
     "text": [
      "Number of samples after SMOTE :  5004\n"
     ]
    }
   ],
   "source": [
    "print('Number of samples after SMOTE : ' ,X.shape[0])"
   ]
  },
  {
   "cell_type": "code",
   "execution_count": 19,
   "id": "ab566b75",
   "metadata": {},
   "outputs": [
    {
     "name": "stdout",
     "output_type": "stream",
     "text": [
      "Logistic Regressor\n",
      "accuracy:  0.8279493013972056\n",
      "f1_score:  0.823238063311638\n",
      "\n",
      "\n",
      "Gaussian naive Bayes\n",
      "accuracy:  0.8459321357285429\n",
      "f1_score:  0.8363530506891695\n",
      "\n",
      "\n",
      "KNN\n",
      "accuracy:  0.7789744510978045\n",
      "f1_score:  0.7445724262891767\n",
      "\n",
      "\n",
      "Decision tree\n",
      "accuracy:  0.83335249500998\n",
      "f1_score:  0.8290984047194911\n",
      "\n",
      "\n",
      "Random forest\n",
      "accuracy:  0.907692614770459\n",
      "f1_score:  0.9062940005805912\n",
      "\n",
      "\n",
      "SVM-Linear\n",
      "accuracy:  0.8930850299401198\n",
      "f1_score:  0.8883754006365564\n",
      "\n",
      "\n",
      "ANN\n",
      "accuracy:  0.9218714570858282\n",
      "f1_score:  0.918507361783471\n",
      "\n",
      "\n"
     ]
    }
   ],
   "source": [
    "\n",
    "for model, name in zip(models, names):\n",
    "    print(name)\n",
    "    \n",
    "    scoring = {\n",
    "        'acc': 'accuracy',\n",
    "        'f1_mac': 'f1_macro',\n",
    "    }\n",
    "    scores = cross_validate(model, X, y, cv=10, n_jobs=4, scoring=scoring)\n",
    "    # training_time = (time.time() - start)\n",
    "    print(\"accuracy: \", scores['test_acc'].mean())\n",
    "    print(\"f1_score: \", scores['test_f1_mac'].mean())\n",
    "    print(\"\\n\")\n",
    "    "
   ]
  },
  {
   "cell_type": "code",
   "execution_count": null,
   "id": "62b26c93",
   "metadata": {},
   "outputs": [],
   "source": []
  }
 ],
 "metadata": {
  "kernelspec": {
   "display_name": "Python 3",
   "language": "python",
   "name": "python3"
  },
  "language_info": {
   "codemirror_mode": {
    "name": "ipython",
    "version": 3
   },
   "file_extension": ".py",
   "mimetype": "text/x-python",
   "name": "python",
   "nbconvert_exporter": "python",
   "pygments_lexer": "ipython3",
   "version": "3.8.3"
  }
 },
 "nbformat": 4,
 "nbformat_minor": 5
}
